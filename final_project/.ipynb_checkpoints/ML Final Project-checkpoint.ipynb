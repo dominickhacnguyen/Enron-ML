{
 "cells": [
  {
   "cell_type": "markdown",
   "metadata": {},
   "source": [
    "# Using Machine Learning to Identify Enron POIs \n",
    "## By Dominic Nguyen\n",
    "The Enron scandal, publicized in 2001, was a corporate fraud involving several Enron employees. After an extensive federal investigation, numerous persons of interests (POIs) have been identified. These POIs represent those people that have been indicted, settled, or testified in exchange for immunity. In recent years, machine learning has become a very useful tool to make predictions on existing data sets. In this project, machine learning is used to classify POIs using a dataset of Enron employees' financial and email information. Several features are extracted from the information as inputs to a number of machine learning algorithms including Naive Bayes, decision trees, and k-means clustering. The classifiers' parameters are then tuned to provide optimal performance. Since POIs have already been identified through the federal investigation, the effectiveness of the chosen machine learning algorithm was able to be validated with test and training data and evaluated with the precision and recall metrics. \n",
    "\n",
    "## Data Information\n",
    "Enron email and financial data was retrieved from **`[]`**. The dataset contains 145 employees with 18 POIs identified from the federal investigation."
   ]
  },
  {
   "cell_type": "markdown",
   "metadata": {},
   "source": [
    "## Feature Selection\n",
    "### All Features\n",
    "    'bonus': 5600000,\n",
    "    'deferral_payments': 'NaN',\n",
    "    'deferred_income': 'NaN',\n",
    "    'director_fees': 'NaN',\n",
    "    'email_address': 'jeff.skilling@enron.com',\n",
    "    'exercised_stock_options': 19250000,\n",
    "    'expenses': 29336,\n",
    "    'from_messages': 108,\n",
    "    'from_poi_to_this_person': 88,\n",
    "    'from_this_person_to_poi': 30,\n",
    "    'loan_advances': 'NaN',\n",
    "    'long_term_incentive': 1920000,\n",
    "    'other': 22122,\n",
    "    'poi': True,\n",
    "    'restricted_stock': 6843672,\n",
    "    'restricted_stock_deferred': 'NaN',\n",
    "    'salary': 1111258,\n",
    "    'shared_receipt_with_poi': 2042,\n",
    "    'to_messages': 3627,\n",
    "    'total_payments': 8682716,\n",
    "    'total_stock_value': 26093672"
   ]
  },
  {
   "cell_type": "code",
   "execution_count": 59,
   "metadata": {},
   "outputs": [],
   "source": [
    "%matplotlib inline\n",
    "import sys\n",
    "import pickle\n",
    "import random\n",
    "import numpy\n",
    "import pprint\n",
    "import matplotlib.pyplot\n",
    "sys.path.append(\"../tools/\")\n",
    "\n",
    "from feature_format import featureFormat, targetFeatureSplit\n",
    "\n",
    "### Task 1: Select what features you'll use.\n",
    "### features_list is a list of strings, each of which is a feature name.\n",
    "### The first feature must be \"poi\".\n",
    "features_list = [\"poi\", \"total_payments\", \"bonus\", \"salary\", \"total_stock_value\", \n",
    "                 \"exercised_stock_options\"]\n",
    "\n",
    "### Load the dictionary containing the dataset\n",
    "with open(\"final_project_dataset.pkl\", \"r\") as data_file:\n",
    "    data_dict = pickle.load(data_file)\n",
    "    \n",
    "data = featureFormat(data_dict, features_list)"
   ]
  },
  {
   "cell_type": "markdown",
   "metadata": {},
   "source": [
    "## Outlier Removal\n",
    "From an initial analysis of the data, an outlier and several missing data points were identified."
   ]
  },
  {
   "cell_type": "code",
   "execution_count": 60,
   "metadata": {},
   "outputs": [
    {
     "name": "stdout",
     "output_type": "stream",
     "text": [
      "Figure 1 - Salary vs Bonus\n"
     ]
    },
    {
     "data": {
      "image/png": "[encoded data removed]",
      "text/plain": [
       "<matplotlib.figure.Figure at 0x106773a90>"
      ]
     },
     "metadata": {},
     "output_type": "display_data"
    }
   ],
   "source": [
    "### Task 2: Find & remove outliers\n",
    "\n",
    "# Find outliers by plotting Salary vs Bonus with color indicating POI label\n",
    "matplotlib.pyplot.scatter(data[:,3],data[:,2],marker='o',c = data[:,0], cmap=\"bwr_r\")\n",
    "\n",
    "matplotlib.pyplot.xlabel(\"Salary\")\n",
    "matplotlib.pyplot.ylabel(\"Bonus\")\n",
    "print \"Figure 1 - Salary vs Bonus\"\n",
    "matplotlib.pyplot.show()"
   ]
  },
  {
   "cell_type": "markdown",
   "metadata": {},
   "source": [
    "From Figure 1, there is one apparent outlier on the Salary vs Bonus scatterplot. After further analysis, it was determined that there was a data point containing the total sum of values of each feature for each person in the dataset. This outlier can adversely affect later classification and was thus removed."
   ]
  },
  {
   "cell_type": "code",
   "execution_count": 61,
   "metadata": {},
   "outputs": [
    {
     "data": {
      "text/plain": [
       "{'bonus': 97343619,\n",
       " 'deferral_payments': 32083396,\n",
       " 'deferred_income': -27992891,\n",
       " 'director_fees': 1398517,\n",
       " 'email_address': 'NaN',\n",
       " 'exercised_stock_options': 311764000,\n",
       " 'expenses': 5235198,\n",
       " 'from_messages': 'NaN',\n",
       " 'from_poi_to_this_person': 'NaN',\n",
       " 'from_this_person_to_poi': 'NaN',\n",
       " 'loan_advances': 83925000,\n",
       " 'long_term_incentive': 48521928,\n",
       " 'other': 42667589,\n",
       " 'poi': False,\n",
       " 'restricted_stock': 130322299,\n",
       " 'restricted_stock_deferred': -7576788,\n",
       " 'salary': 26704229,\n",
       " 'shared_receipt_with_poi': 'NaN',\n",
       " 'to_messages': 'NaN',\n",
       " 'total_payments': 309886585,\n",
       " 'total_stock_value': 434509511}"
      ]
     },
     "execution_count": 61,
     "metadata": {},
     "output_type": "execute_result"
    }
   ],
   "source": [
    "# Remove TOTAL data point as it will result in outliers in features\n",
    "data_dict.pop(\"TOTAL\")"
   ]
  },
  {
   "cell_type": "code",
   "execution_count": 62,
   "metadata": {},
   "outputs": [
    {
     "name": "stdout",
     "output_type": "stream",
     "text": [
      "# of Missing Values in Features\n",
      "{'bonus': 64,\n",
      " 'deferral_payments': 107,\n",
      " 'deferred_income': 97,\n",
      " 'director_fees': 129,\n",
      " 'email_address': 34,\n",
      " 'exercised_stock_options': 44,\n",
      " 'expenses': 51,\n",
      " 'from_messages': 59,\n",
      " 'from_poi_to_this_person': 59,\n",
      " 'from_this_person_to_poi': 59,\n",
      " 'loan_advances': 142,\n",
      " 'long_term_incentive': 80,\n",
      " 'other': 53,\n",
      " 'restricted_stock': 36,\n",
      " 'restricted_stock_deferred': 128,\n",
      " 'salary': 51,\n",
      " 'shared_receipt_with_poi': 59,\n",
      " 'to_messages': 59,\n",
      " 'total_payments': 21,\n",
      " 'total_stock_value': 20}\n"
     ]
    }
   ],
   "source": [
    "# Find & print missing data points\n",
    "features_nan = {}\n",
    "for name, feature in data_dict.iteritems():\n",
    "    for feature_key, val in feature.iteritems():\n",
    "        if val == \"NaN\":\n",
    "            if features_nan.get(feature_key):\n",
    "                features_nan[feature_key] = features_nan.get(feature_key) + 1\n",
    "            else:\n",
    "                features_nan[feature_key] = 1\n",
    "print '# of Missing Values in Features'\n",
    "pprint.pprint(features_nan)"
   ]
  },
  {
   "cell_type": "markdown",
   "metadata": {},
   "source": [
    "## Creating New Features"
   ]
  },
  {
   "cell_type": "code",
   "execution_count": null,
   "metadata": {},
   "outputs": [],
   "source": [
    "### Task 3: Create new feature(s)\n",
    "### Store to my_dataset for easy export below.\n",
    "my_dataset = data_dict\n",
    "\n",
    "for name in my_dataset:\n",
    "    \n",
    "\n",
    "### Extract features and labels from dataset for local testing\n",
    "data = featureFormat(my_dataset, features_list, sort_keys = True)\n",
    "labels, features = targetFeatureSplit(data)"
   ]
  },
  {
   "cell_type": "markdown",
   "metadata": {},
   "source": [
    "## Algorithms and Tuning"
   ]
  },
  {
   "cell_type": "code",
   "execution_count": null,
   "metadata": {},
   "outputs": [],
   "source": [
    "### Task 4: Try a varity of classifiers\n",
    "### Please name your classifier clf for easy export below.\n",
    "### Note that if you want to do PCA or other multi-stage operations,\n",
    "### you'll need to use Pipelines. For more info:\n",
    "### http://scikit-learn.org/stable/modules/pipeline.html\n",
    "\n",
    "# Provided to give you a starting point. Try a variety of classifiers.\n",
    "from sklearn.naive_bayes import GaussianNB\n",
    "clf = GaussianNB()\n",
    "\n",
    "### Task 5: Tune your classifier to achieve better than .3 precision and recall \n",
    "### using our testing script. Check the tester.py script in the final project\n",
    "### folder for details on the evaluation method, especially the test_classifier\n",
    "### function. Because of the small size of the dataset, the script uses\n",
    "### stratified shuffle split cross validation. For more info: \n",
    "### http://scikit-learn.org/stable/modules/generated/sklearn.cross_validation.StratifiedShuffleSplit.html\n",
    "\n",
    "# Example starting point. Try investigating other evaluation techniques!\n",
    "from sklearn.cross_validation import train_test_split\n",
    "features_train, features_test, labels_train, labels_test = \\\n",
    "    train_test_split(features, labels, test_size=0.3, random_state=42)"
   ]
  },
  {
   "cell_type": "markdown",
   "metadata": {},
   "source": [
    "## Data Dumping"
   ]
  },
  {
   "cell_type": "code",
   "execution_count": null,
   "metadata": {},
   "outputs": [],
   "source": [
    "### Task 6: Dump your classifier, dataset, and features_list so anyone can\n",
    "### check your results. You do not need to change anything below, but make sure\n",
    "### that the version of poi_id.py that you submit can be run on its own and\n",
    "### generates the necessary .pkl files for validating your results.\n",
    "from tester import dump_classifier_and_data\n",
    "\n",
    "dump_classifier_and_data(clf, my_dataset, features_list)"
   ]
  },
  {
   "cell_type": "markdown",
   "metadata": {},
   "source": [
    "# Entire Process"
   ]
  },
  {
   "cell_type": "code",
   "execution_count": 65,
   "metadata": {},
   "outputs": [
    {
     "name": "stdout",
     "output_type": "stream",
     "text": [
      "Figure 1 - Salary vs Bonus\n"
     ]
    },
    {
     "data": {
      "image/png": "[encoded data removed]",
      "text/plain": [
       "<matplotlib.figure.Figure at 0x106037190>"
      ]
     },
     "metadata": {},
     "output_type": "display_data"
    },
    {
     "name": "stdout",
     "output_type": "stream",
     "text": [
      "# of Missing Values in Features\n",
      "{'bonus': 64,\n",
      " 'deferral_payments': 107,\n",
      " 'deferred_income': 97,\n",
      " 'director_fees': 129,\n",
      " 'email_address': 34,\n",
      " 'exercised_stock_options': 44,\n",
      " 'expenses': 51,\n",
      " 'from_messages': 59,\n",
      " 'from_poi_to_this_person': 59,\n",
      " 'from_this_person_to_poi': 59,\n",
      " 'loan_advances': 142,\n",
      " 'long_term_incentive': 80,\n",
      " 'other': 53,\n",
      " 'restricted_stock': 36,\n",
      " 'restricted_stock_deferred': 128,\n",
      " 'salary': 51,\n",
      " 'shared_receipt_with_poi': 59,\n",
      " 'to_messages': 59,\n",
      " 'total_payments': 21,\n",
      " 'total_stock_value': 20}\n",
      "\n",
      "\n",
      "Features:\n",
      "['total_payments', 'bonus', 'salary', 'total_stock_value', 'exercised_stock_options', 'fraction_exercised_stock'] \n",
      "\n",
      "Feature Scores:\n",
      "[  2.28381521   6.85295836   3.83488315  10.71668009  10.50883222\n",
      "   0.02558587] \n",
      "\n",
      "Features Selected:\n",
      "['bonus', 'total_stock_value', 'exercised_stock_options'] \n",
      "\n",
      "Best Decision Tree Params: {'max_features': 1, 'max_depth': 1} \n",
      "\n",
      "Decision Tree Feature Importances w/o Grid Search:\n",
      "[ 0.35999496  0.29660616  0.34339888] \n",
      "\n",
      "Decision Tree Feature Importances w/ Grid Search:\n",
      "[ 0.  1.  0.] \n",
      "\n",
      "Classifier: Naive Bayes\n",
      "Precision: 0.5\n",
      "Recall: 0.428571428571\n",
      "F1: 0.461538461538 \n",
      "\n",
      "Classifier: Decision Tree w/o Grid Search\n",
      "Precision: 0.428571428571\n",
      "Recall: 0.428571428571\n",
      "F1: 0.428571428571 \n",
      "\n",
      "Classifier: Decision Tree w/ Grid Search\n",
      "Precision: 0.6\n",
      "Recall: 0.428571428571\n",
      "F1: 0.5 \n",
      "\n"
     ]
    }
   ],
   "source": [
    "%matplotlib inline\n",
    "import sys\n",
    "import pickle\n",
    "import random\n",
    "import numpy\n",
    "import pprint\n",
    "import matplotlib.pyplot\n",
    "from time import time\n",
    "sys.path.append(\"../tools/\")\n",
    "from feature_format import featureFormat, targetFeatureSplit\n",
    "\n",
    "data_dict = pickle.load(open(\"final_project_dataset.pkl\", \"r\") )\n",
    "\n",
    "# Find outliers by plotting Salary vs Bonus with color indicating POI label\n",
    "matplotlib.pyplot.scatter(data[:,3],data[:,2],marker='o',c = data[:,0], cmap=\"bwr_r\")\n",
    "matplotlib.pyplot.xlabel(\"Salary\")\n",
    "matplotlib.pyplot.ylabel(\"Bonus\")\n",
    "print \"Figure 1 - Salary vs Bonus\"\n",
    "matplotlib.pyplot.show()\n",
    "\n",
    "# Remove TOTAL data point as it will cause outliers in features\n",
    "data_dict.pop(\"TOTAL\")\n",
    "\n",
    "# Find & print missing data points\n",
    "features_nan = {}\n",
    "for name, feature in data_dict.iteritems():\n",
    "    for feature_key, val in feature.iteritems():\n",
    "        if val == \"NaN\":\n",
    "            if features_nan.get(feature_key):\n",
    "                features_nan[feature_key] = features_nan.get(feature_key) + 1\n",
    "            else:\n",
    "                features_nan[feature_key] = 1\n",
    "print \"# of Missing Values in Features\"\n",
    "pprint.pprint(features_nan)\n",
    "print \"\\n\"\n",
    "\n",
    "my_dataset = data_dict\n",
    "\n",
    "# Function to compute fraction exercised stock\n",
    "def computeFraction(exercised, total):\n",
    "    if exercised == \"NaN\" or total == \"NaN\":\n",
    "        fraction = 0\n",
    "    else:\n",
    "        fraction = float(exercised) / float(total)\n",
    "        \n",
    "    return fraction\n",
    "\n",
    "# Add new feature of fraction exercised stock to each data point in data set\n",
    "for name in my_dataset:\n",
    "    \n",
    "    data_point = my_dataset[name]\n",
    "    total_stock_value = data_point[\"total_stock_value\"]\n",
    "    exercised_stock_options = data_point[\"exercised_stock_options\"]\n",
    "    fraction_exercised_stock = computeFraction(exercised_stock_options, total_stock_value)\n",
    "    data_point[\"fraction_exercised_stock\"] = fraction_exercised_stock\n",
    "\n",
    "### first element is our labels, any added elements are predictor\n",
    "### features. Keep this the same for the mini-project, but you'll\n",
    "### have a different feature list when you do the final project.\n",
    "features_list = [\"poi\", \"total_payments\", \"bonus\", \"salary\", \"total_stock_value\", \n",
    "                 \"exercised_stock_options\", \"fraction_exercised_stock\"]\n",
    "\n",
    "data = featureFormat(my_dataset, features_list)\n",
    "labels, features = targetFeatureSplit(data)\n",
    "\n",
    "# Cross Validation - split data into training and testing sets\n",
    "from sklearn import cross_validation\n",
    "features_train, features_test, labels_train, labels_test = cross_validation.train_test_split(\n",
    "    features, labels, test_size=0.3, random_state = 0)\n",
    "\n",
    "# Perform univariate feature selection to select 3 most important features\n",
    "from sklearn.feature_selection import SelectKBest\n",
    "selector = SelectKBest(k = 3).fit(features_train, labels_train)\n",
    "features_train = selector.transform(features_train)\n",
    "features_test = selector.transform(features_test)\n",
    "\n",
    "# Find which features were selected from SelectKBest\n",
    "features_selected_bool = selector.get_support()\n",
    "features_selected = []\n",
    "ctr = 0\n",
    "for feature in range(1, len(features_list)):\n",
    "    if features_selected_bool[ctr] == True:\n",
    "        features_selected.append(features_list[ctr+1])\n",
    "    ctr += 1\n",
    "print \"Features:\\n\", features_list[1:], \"\\n\"\n",
    "print \"Feature Scores:\\n\", selector.scores_, \"\\n\"\n",
    "print \"Features Selected:\\n\", features_selected, \"\\n\"\n",
    "\n",
    "# Naive Bayes\n",
    "from sklearn.naive_bayes import GaussianNB\n",
    "nb_clf = GaussianNB()\n",
    "nb_clf.fit(features_train, labels_train)\n",
    "nb_pred = nb_clf.predict(features_test)\n",
    "\n",
    "# Decision Tree\n",
    "from sklearn.tree import DecisionTreeClassifier\n",
    "from sklearn.model_selection import StratifiedKFold\n",
    "from sklearn.grid_search import GridSearchCV\n",
    "\n",
    "tree_clf = DecisionTreeClassifier(random_state = 34)\n",
    "\n",
    "# Perform Grid Search for Decision Tree\n",
    "parameter_grid = {'max_depth': [1, 2, 3, 4, 5],\n",
    "                  'max_features': [1, 2, 3]}\n",
    "grid_search = GridSearchCV(tree_clf, param_grid = parameter_grid)\n",
    "grid_search.fit(features_train, labels_train)\n",
    "print \"Best Decision Tree Params: {}\".format(grid_search.best_params_), \"\\n\"\n",
    "\n",
    "tree_clf_no_gs = DecisionTreeClassifier(random_state = 34)\n",
    "tree_clf_no_gs.fit(features_train, labels_train)\n",
    "tree_pred_no_gs = tree_clf_no_gs.predict(features_test)\n",
    "print \"Decision Tree Feature Importances w/o Grid Search:\\n\", tree_clf_no_gs.feature_importances_, \"\\n\"\n",
    "\n",
    "tree_clf_gs = DecisionTreeClassifier(random_state = 34, max_depth=1, max_features=1)\n",
    "tree_clf_gs.fit(features_train, labels_train)\n",
    "tree_pred_gs = tree_clf_gs.predict(features_test)\n",
    "print \"Decision Tree Feature Importances w/ Grid Search:\\n\", tree_clf_gs.feature_importances_, \"\\n\"\n",
    "\n",
    "# Function for evaluating ML algorithm in terms of accuracy, precision, and recall\n",
    "from sklearn.metrics import precision_score, recall_score, f1_score\n",
    "def evaluate_algorithm(clf_name, clf, test_features, actual_labels, pred_labels):\n",
    "\n",
    "    precision = precision_score(actual_labels, pred_labels)\n",
    "    recall = recall_score(actual_labels, pred_labels)\n",
    "    f1 = f1_score(actual_labels, pred_labels)\n",
    "    \n",
    "    print \"Classifier:\", clf_name\n",
    "    print \"Precision:\", precision\n",
    "    print \"Recall:\", recall\n",
    "    print \"F1:\", f1, \"\\n\"\n",
    "\n",
    "# Evaluate Algorithms\n",
    "evaluate_algorithm(\"Naive Bayes\", nb_clf, features_test, labels_test, nb_pred)\n",
    "evaluate_algorithm(\"Decision Tree w/o Grid Search\", tree_clf_no_gs, features_test, labels_test, tree_pred_no_gs)\n",
    "evaluate_algorithm(\"Decision Tree w/ Grid Search\", tree_clf_gs, features_test, labels_test, tree_pred_gs)\n",
    "\n",
    "# Dump classifier, feature list, and data set\n",
    "from tester import dump_classifier_and_data\n",
    "\n",
    "dump_classifier_and_data(clf, my_dataset, features_list)"
   ]
  },
  {
   "cell_type": "markdown",
   "metadata": {},
   "source": [
    "Sources\n",
    "https://stats.stackexchange.com/questions/269300/why-does-sklearn-grid-search-gridsearchcv-return-random-results-on-every-executi"
   ]
  }
 ],
 "metadata": {
  "kernelspec": {
   "display_name": "Python 2",
   "language": "python",
   "name": "python2"
  },
  "language_info": {
   "codemirror_mode": {
    "name": "ipython",
    "version": 2
   },
   "file_extension": ".py",
   "mimetype": "text/x-python",
   "name": "python",
   "nbconvert_exporter": "python",
   "pygments_lexer": "ipython2",
   "version": "2.7.14"
  }
 },
 "nbformat": 4,
 "nbformat_minor": 2
}
